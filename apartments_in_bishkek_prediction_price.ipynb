{
 "cells": [
  {
   "cell_type": "code",
   "execution_count": 14,
   "metadata": {},
   "outputs": [],
   "source": [
    "import pandas as pd\n",
    "import numpy as np\n",
    "from matplotlib import pyplot as plt\n",
    "%matplotlib inline\n",
    "import matplotlib\n",
    "matplotlib.rcParams[\"figure.figsize\"]=(20,10)"
   ]
  },
  {
   "cell_type": "code",
   "execution_count": 15,
   "metadata": {},
   "outputs": [
    {
     "data": {
      "text/html": [
       "<div>\n",
       "<style scoped>\n",
       "    .dataframe tbody tr th:only-of-type {\n",
       "        vertical-align: middle;\n",
       "    }\n",
       "\n",
       "    .dataframe tbody tr th {\n",
       "        vertical-align: top;\n",
       "    }\n",
       "\n",
       "    .dataframe thead th {\n",
       "        text-align: right;\n",
       "    }\n",
       "</style>\n",
       "<table border=\"1\" class=\"dataframe\">\n",
       "  <thead>\n",
       "    <tr style=\"text-align: right;\">\n",
       "      <th></th>\n",
       "      <th>id</th>\n",
       "      <th>old_id</th>\n",
       "      <th>country_id</th>\n",
       "      <th>status_id</th>\n",
       "      <th>category_id</th>\n",
       "      <th>user_id</th>\n",
       "      <th>user_ids</th>\n",
       "      <th>user</th>\n",
       "      <th>origin_user_id</th>\n",
       "      <th>title</th>\n",
       "      <th>...</th>\n",
       "      <th>last_push_up</th>\n",
       "      <th>tracking_info</th>\n",
       "      <th>is_freedom</th>\n",
       "      <th>response_type</th>\n",
       "      <th>campaign_show</th>\n",
       "      <th>is_ppv</th>\n",
       "      <th>price_type</th>\n",
       "      <th>ad_label</th>\n",
       "      <th>params</th>\n",
       "      <th>url</th>\n",
       "    </tr>\n",
       "  </thead>\n",
       "  <tbody>\n",
       "    <tr>\n",
       "      <th>0</th>\n",
       "      <td>79437391</td>\n",
       "      <td>NaN</td>\n",
       "      <td>12</td>\n",
       "      <td>2</td>\n",
       "      <td>2046</td>\n",
       "      <td>1770235</td>\n",
       "      <td>[1770235]</td>\n",
       "      <td>{'public_url': 'vivalavida', 'business': {'fea...</td>\n",
       "      <td>1770235</td>\n",
       "      <td>2 bedroom, 67 sq. m</td>\n",
       "      <td>...</td>\n",
       "      <td>1632623840</td>\n",
       "      <td>[{'name': 'ad_type', 'value': 2}, {'name': 'ca...</td>\n",
       "      <td>False</td>\n",
       "      <td>0</td>\n",
       "      <td>True</td>\n",
       "      <td>True</td>\n",
       "      <td>1</td>\n",
       "      <td>Apartment for sale</td>\n",
       "      <td>[{'id': 357, 'name': 'District', 'value': 'Dor...</td>\n",
       "      <td>/bishkek/ads/2-bedroom-67-sq-m-id-79437391</td>\n",
       "    </tr>\n",
       "    <tr>\n",
       "      <th>1</th>\n",
       "      <td>96001631</td>\n",
       "      <td>NaN</td>\n",
       "      <td>12</td>\n",
       "      <td>2</td>\n",
       "      <td>2046</td>\n",
       "      <td>7070798</td>\n",
       "      <td>[7070798]</td>\n",
       "      <td>{'public_url': 'satainedvijimost', 'business':...</td>\n",
       "      <td>7070798</td>\n",
       "      <td>Elite flat, 1 bedroom, 42 sq. m, Armored doors...</td>\n",
       "      <td>...</td>\n",
       "      <td>1637402723</td>\n",
       "      <td>[{'name': 'ad_type', 'value': 2}, {'name': 'ca...</td>\n",
       "      <td>False</td>\n",
       "      <td>0</td>\n",
       "      <td>True</td>\n",
       "      <td>True</td>\n",
       "      <td>1</td>\n",
       "      <td>Apartment for sale</td>\n",
       "      <td>[]</td>\n",
       "      <td>/bishkek/ads/elite-flat-1-bedroom-42-sq-m-armo...</td>\n",
       "    </tr>\n",
       "    <tr>\n",
       "      <th>2</th>\n",
       "      <td>95993294</td>\n",
       "      <td>NaN</td>\n",
       "      <td>12</td>\n",
       "      <td>2</td>\n",
       "      <td>2046</td>\n",
       "      <td>10864260</td>\n",
       "      <td>[10864260]</td>\n",
       "      <td>{'public_url': 'kuplya', 'business': {'feature...</td>\n",
       "      <td>10864260</td>\n",
       "      <td>Elite flat, 1 bedroom, 50 sq. m, Without furni...</td>\n",
       "      <td>...</td>\n",
       "      <td>1637389783</td>\n",
       "      <td>[{'name': 'ad_type', 'value': 2}, {'name': 'ca...</td>\n",
       "      <td>False</td>\n",
       "      <td>0</td>\n",
       "      <td>True</td>\n",
       "      <td>True</td>\n",
       "      <td>1</td>\n",
       "      <td>Apartment for sale</td>\n",
       "      <td>[]</td>\n",
       "      <td>/bishkek/ads/elite-flat-1-bedroom-50-sq-m-with...</td>\n",
       "    </tr>\n",
       "  </tbody>\n",
       "</table>\n",
       "<p>3 rows × 51 columns</p>\n",
       "</div>"
      ],
      "text/plain": [
       "         id  old_id  country_id  status_id  category_id   user_id    user_ids  \\\n",
       "0  79437391     NaN          12          2         2046   1770235   [1770235]   \n",
       "1  96001631     NaN          12          2         2046   7070798   [7070798]   \n",
       "2  95993294     NaN          12          2         2046  10864260  [10864260]   \n",
       "\n",
       "                                                user  origin_user_id  \\\n",
       "0  {'public_url': 'vivalavida', 'business': {'fea...         1770235   \n",
       "1  {'public_url': 'satainedvijimost', 'business':...         7070798   \n",
       "2  {'public_url': 'kuplya', 'business': {'feature...        10864260   \n",
       "\n",
       "                                               title  ... last_push_up  \\\n",
       "0                                2 bedroom, 67 sq. m  ...   1632623840   \n",
       "1  Elite flat, 1 bedroom, 42 sq. m, Armored doors...  ...   1637402723   \n",
       "2  Elite flat, 1 bedroom, 50 sq. m, Without furni...  ...   1637389783   \n",
       "\n",
       "                                       tracking_info  is_freedom  \\\n",
       "0  [{'name': 'ad_type', 'value': 2}, {'name': 'ca...       False   \n",
       "1  [{'name': 'ad_type', 'value': 2}, {'name': 'ca...       False   \n",
       "2  [{'name': 'ad_type', 'value': 2}, {'name': 'ca...       False   \n",
       "\n",
       "   response_type  campaign_show  is_ppv  price_type            ad_label  \\\n",
       "0              0           True    True           1  Apartment for sale   \n",
       "1              0           True    True           1  Apartment for sale   \n",
       "2              0           True    True           1  Apartment for sale   \n",
       "\n",
       "                                              params  \\\n",
       "0  [{'id': 357, 'name': 'District', 'value': 'Dor...   \n",
       "1                                                 []   \n",
       "2                                                 []   \n",
       "\n",
       "                                                 url  \n",
       "0         /bishkek/ads/2-bedroom-67-sq-m-id-79437391  \n",
       "1  /bishkek/ads/elite-flat-1-bedroom-42-sq-m-armo...  \n",
       "2  /bishkek/ads/elite-flat-1-bedroom-50-sq-m-with...  \n",
       "\n",
       "[3 rows x 51 columns]"
      ]
     },
     "execution_count": 15,
     "metadata": {},
     "output_type": "execute_result"
    }
   ],
   "source": [
    "df1 = pd.read_json('D://Aitolkun//Real Estate//ads.json')\n",
    "df1.head(3)"
   ]
  },
  {
   "cell_type": "code",
   "execution_count": 16,
   "metadata": {},
   "outputs": [
    {
     "data": {
      "text/plain": [
       "(44, 51)"
      ]
     },
     "execution_count": 16,
     "metadata": {},
     "output_type": "execute_result"
    }
   ],
   "source": [
    "df1.shape"
   ]
  },
  {
   "cell_type": "code",
   "execution_count": 17,
   "metadata": {},
   "outputs": [],
   "source": [
    "import regex as re\n",
    "rooms = []\n",
    "squares = []\n",
    "for rows in df1['url']:\n",
    "    rooms.append(re.search(r'(\\d+?-bedroom)', rows).group())\n",
    "    squares.append(re.search(r'(\\d+?-sq-m)', rows).group())\n",
    "\n",
    "df1['rooms'] = rooms\n",
    "df1['squares'] = squares"
   ]
  },
  {
   "cell_type": "code",
   "execution_count": 18,
   "metadata": {},
   "outputs": [
    {
     "data": {
      "text/html": [
       "<div>\n",
       "<style scoped>\n",
       "    .dataframe tbody tr th:only-of-type {\n",
       "        vertical-align: middle;\n",
       "    }\n",
       "\n",
       "    .dataframe tbody tr th {\n",
       "        vertical-align: top;\n",
       "    }\n",
       "\n",
       "    .dataframe thead th {\n",
       "        text-align: right;\n",
       "    }\n",
       "</style>\n",
       "<table border=\"1\" class=\"dataframe\">\n",
       "  <thead>\n",
       "    <tr style=\"text-align: right;\">\n",
       "      <th></th>\n",
       "      <th>id</th>\n",
       "      <th>old_id</th>\n",
       "      <th>country_id</th>\n",
       "      <th>status_id</th>\n",
       "      <th>category_id</th>\n",
       "      <th>user_id</th>\n",
       "      <th>user_ids</th>\n",
       "      <th>user</th>\n",
       "      <th>origin_user_id</th>\n",
       "      <th>title</th>\n",
       "      <th>...</th>\n",
       "      <th>is_freedom</th>\n",
       "      <th>response_type</th>\n",
       "      <th>campaign_show</th>\n",
       "      <th>is_ppv</th>\n",
       "      <th>price_type</th>\n",
       "      <th>ad_label</th>\n",
       "      <th>params</th>\n",
       "      <th>url</th>\n",
       "      <th>rooms</th>\n",
       "      <th>squares</th>\n",
       "    </tr>\n",
       "  </thead>\n",
       "  <tbody>\n",
       "    <tr>\n",
       "      <th>0</th>\n",
       "      <td>79437391</td>\n",
       "      <td>NaN</td>\n",
       "      <td>12</td>\n",
       "      <td>2</td>\n",
       "      <td>2046</td>\n",
       "      <td>1770235</td>\n",
       "      <td>[1770235]</td>\n",
       "      <td>{'public_url': 'vivalavida', 'business': {'fea...</td>\n",
       "      <td>1770235</td>\n",
       "      <td>2 bedroom, 67 sq. m</td>\n",
       "      <td>...</td>\n",
       "      <td>False</td>\n",
       "      <td>0</td>\n",
       "      <td>True</td>\n",
       "      <td>True</td>\n",
       "      <td>1</td>\n",
       "      <td>Apartment for sale</td>\n",
       "      <td>[{'id': 357, 'name': 'District', 'value': 'Dor...</td>\n",
       "      <td>/bishkek/ads/2-bedroom-67-sq-m-id-79437391</td>\n",
       "      <td>2-bedroom</td>\n",
       "      <td>67-sq-m</td>\n",
       "    </tr>\n",
       "    <tr>\n",
       "      <th>1</th>\n",
       "      <td>96001631</td>\n",
       "      <td>NaN</td>\n",
       "      <td>12</td>\n",
       "      <td>2</td>\n",
       "      <td>2046</td>\n",
       "      <td>7070798</td>\n",
       "      <td>[7070798]</td>\n",
       "      <td>{'public_url': 'satainedvijimost', 'business':...</td>\n",
       "      <td>7070798</td>\n",
       "      <td>Elite flat, 1 bedroom, 42 sq. m, Armored doors...</td>\n",
       "      <td>...</td>\n",
       "      <td>False</td>\n",
       "      <td>0</td>\n",
       "      <td>True</td>\n",
       "      <td>True</td>\n",
       "      <td>1</td>\n",
       "      <td>Apartment for sale</td>\n",
       "      <td>[]</td>\n",
       "      <td>/bishkek/ads/elite-flat-1-bedroom-42-sq-m-armo...</td>\n",
       "      <td>1-bedroom</td>\n",
       "      <td>42-sq-m</td>\n",
       "    </tr>\n",
       "    <tr>\n",
       "      <th>2</th>\n",
       "      <td>95993294</td>\n",
       "      <td>NaN</td>\n",
       "      <td>12</td>\n",
       "      <td>2</td>\n",
       "      <td>2046</td>\n",
       "      <td>10864260</td>\n",
       "      <td>[10864260]</td>\n",
       "      <td>{'public_url': 'kuplya', 'business': {'feature...</td>\n",
       "      <td>10864260</td>\n",
       "      <td>Elite flat, 1 bedroom, 50 sq. m, Without furni...</td>\n",
       "      <td>...</td>\n",
       "      <td>False</td>\n",
       "      <td>0</td>\n",
       "      <td>True</td>\n",
       "      <td>True</td>\n",
       "      <td>1</td>\n",
       "      <td>Apartment for sale</td>\n",
       "      <td>[]</td>\n",
       "      <td>/bishkek/ads/elite-flat-1-bedroom-50-sq-m-with...</td>\n",
       "      <td>1-bedroom</td>\n",
       "      <td>50-sq-m</td>\n",
       "    </tr>\n",
       "    <tr>\n",
       "      <th>3</th>\n",
       "      <td>96417327</td>\n",
       "      <td>NaN</td>\n",
       "      <td>12</td>\n",
       "      <td>2</td>\n",
       "      <td>2046</td>\n",
       "      <td>1613431</td>\n",
       "      <td>[1613431]</td>\n",
       "      <td>{'public_url': 'RIO2000', 'business': {'featur...</td>\n",
       "      <td>1613431</td>\n",
       "      <td>Independent flat, 1 bedroom, 32 sq. m</td>\n",
       "      <td>...</td>\n",
       "      <td>False</td>\n",
       "      <td>0</td>\n",
       "      <td>False</td>\n",
       "      <td>True</td>\n",
       "      <td>1</td>\n",
       "      <td>Apartment for sale</td>\n",
       "      <td>[{'id': 357, 'name': 'District', 'value': 'Ala...</td>\n",
       "      <td>/bishkek/ads/independent-flat-1-bedroom-32-sq-...</td>\n",
       "      <td>1-bedroom</td>\n",
       "      <td>32-sq-m</td>\n",
       "    </tr>\n",
       "    <tr>\n",
       "      <th>4</th>\n",
       "      <td>96371599</td>\n",
       "      <td>NaN</td>\n",
       "      <td>12</td>\n",
       "      <td>2</td>\n",
       "      <td>2046</td>\n",
       "      <td>1684930</td>\n",
       "      <td>[1684930]</td>\n",
       "      <td>{'public_url': None, 'business': {'features': ...</td>\n",
       "      <td>1684930</td>\n",
       "      <td>Elite flat, 3 bedroom, 220 sq. m, Video monito...</td>\n",
       "      <td>...</td>\n",
       "      <td>False</td>\n",
       "      <td>0</td>\n",
       "      <td>True</td>\n",
       "      <td>True</td>\n",
       "      <td>1</td>\n",
       "      <td>Apartment for sale</td>\n",
       "      <td>[{'id': 357, 'name': 'District', 'value': 'Fil...</td>\n",
       "      <td>/bishkek/ads/elite-flat-3-bedroom-220-sq-m-vid...</td>\n",
       "      <td>3-bedroom</td>\n",
       "      <td>220-sq-m</td>\n",
       "    </tr>\n",
       "  </tbody>\n",
       "</table>\n",
       "<p>5 rows × 53 columns</p>\n",
       "</div>"
      ],
      "text/plain": [
       "         id  old_id  country_id  status_id  category_id   user_id    user_ids  \\\n",
       "0  79437391     NaN          12          2         2046   1770235   [1770235]   \n",
       "1  96001631     NaN          12          2         2046   7070798   [7070798]   \n",
       "2  95993294     NaN          12          2         2046  10864260  [10864260]   \n",
       "3  96417327     NaN          12          2         2046   1613431   [1613431]   \n",
       "4  96371599     NaN          12          2         2046   1684930   [1684930]   \n",
       "\n",
       "                                                user  origin_user_id  \\\n",
       "0  {'public_url': 'vivalavida', 'business': {'fea...         1770235   \n",
       "1  {'public_url': 'satainedvijimost', 'business':...         7070798   \n",
       "2  {'public_url': 'kuplya', 'business': {'feature...        10864260   \n",
       "3  {'public_url': 'RIO2000', 'business': {'featur...         1613431   \n",
       "4  {'public_url': None, 'business': {'features': ...         1684930   \n",
       "\n",
       "                                               title  ... is_freedom  \\\n",
       "0                                2 bedroom, 67 sq. m  ...      False   \n",
       "1  Elite flat, 1 bedroom, 42 sq. m, Armored doors...  ...      False   \n",
       "2  Elite flat, 1 bedroom, 50 sq. m, Without furni...  ...      False   \n",
       "3              Independent flat, 1 bedroom, 32 sq. m  ...      False   \n",
       "4  Elite flat, 3 bedroom, 220 sq. m, Video monito...  ...      False   \n",
       "\n",
       "  response_type  campaign_show  is_ppv  price_type            ad_label  \\\n",
       "0             0           True    True           1  Apartment for sale   \n",
       "1             0           True    True           1  Apartment for sale   \n",
       "2             0           True    True           1  Apartment for sale   \n",
       "3             0          False    True           1  Apartment for sale   \n",
       "4             0           True    True           1  Apartment for sale   \n",
       "\n",
       "                                              params  \\\n",
       "0  [{'id': 357, 'name': 'District', 'value': 'Dor...   \n",
       "1                                                 []   \n",
       "2                                                 []   \n",
       "3  [{'id': 357, 'name': 'District', 'value': 'Ala...   \n",
       "4  [{'id': 357, 'name': 'District', 'value': 'Fil...   \n",
       "\n",
       "                                                 url      rooms   squares  \n",
       "0         /bishkek/ads/2-bedroom-67-sq-m-id-79437391  2-bedroom   67-sq-m  \n",
       "1  /bishkek/ads/elite-flat-1-bedroom-42-sq-m-armo...  1-bedroom   42-sq-m  \n",
       "2  /bishkek/ads/elite-flat-1-bedroom-50-sq-m-with...  1-bedroom   50-sq-m  \n",
       "3  /bishkek/ads/independent-flat-1-bedroom-32-sq-...  1-bedroom   32-sq-m  \n",
       "4  /bishkek/ads/elite-flat-3-bedroom-220-sq-m-vid...  3-bedroom  220-sq-m  \n",
       "\n",
       "[5 rows x 53 columns]"
      ]
     },
     "execution_count": 18,
     "metadata": {},
     "output_type": "execute_result"
    }
   ],
   "source": [
    "df1.head()"
   ]
  },
  {
   "cell_type": "code",
   "execution_count": 19,
   "metadata": {},
   "outputs": [
    {
     "data": {
      "text/plain": [
       "Index(['id', 'old_id', 'country_id', 'status_id', 'category_id', 'user_id',\n",
       "       'user_ids', 'user', 'origin_user_id', 'title', 'description', 'city',\n",
       "       'hide_phone', 'hide_chat', 'lat', 'lng', 'views', 'impressions',\n",
       "       'favorite_count', 'callers_count', 'writers_count', 'is_vip',\n",
       "       'is_select', 'is_premium', 'is_negotiable', 'price', 'old_price',\n",
       "       'currency', 'symbol', 'background', 'mobile', 'image', 'images',\n",
       "       'created_time', 'updated_time', 'city_id', 'city_alias',\n",
       "       'can_free_push', 'paid_features', 'paid_packages', 'score_order',\n",
       "       'last_push_up', 'tracking_info', 'is_freedom', 'response_type',\n",
       "       'campaign_show', 'is_ppv', 'price_type', 'ad_label', 'params', 'url',\n",
       "       'rooms', 'squares'],\n",
       "      dtype='object')"
      ]
     },
     "execution_count": 19,
     "metadata": {},
     "output_type": "execute_result"
    }
   ],
   "source": [
    "df1.columns"
   ]
  },
  {
   "cell_type": "code",
   "execution_count": 20,
   "metadata": {},
   "outputs": [
    {
     "data": {
      "text/html": [
       "<div>\n",
       "<style scoped>\n",
       "    .dataframe tbody tr th:only-of-type {\n",
       "        vertical-align: middle;\n",
       "    }\n",
       "\n",
       "    .dataframe tbody tr th {\n",
       "        vertical-align: top;\n",
       "    }\n",
       "\n",
       "    .dataframe thead th {\n",
       "        text-align: right;\n",
       "    }\n",
       "</style>\n",
       "<table border=\"1\" class=\"dataframe\">\n",
       "  <thead>\n",
       "    <tr style=\"text-align: right;\">\n",
       "      <th></th>\n",
       "      <th>title</th>\n",
       "      <th>description</th>\n",
       "      <th>city</th>\n",
       "      <th>is_vip</th>\n",
       "      <th>is_premium</th>\n",
       "      <th>is_negotiable</th>\n",
       "      <th>price</th>\n",
       "      <th>old_price</th>\n",
       "      <th>created_time</th>\n",
       "      <th>updated_time</th>\n",
       "      <th>price_type</th>\n",
       "      <th>rooms</th>\n",
       "      <th>squares</th>\n",
       "    </tr>\n",
       "  </thead>\n",
       "  <tbody>\n",
       "    <tr>\n",
       "      <th>0</th>\n",
       "      <td>2 bedroom, 67 sq. m</td>\n",
       "      <td>Продаю 2ком. кв. в районе Кожзавода (Дордой). ...</td>\n",
       "      <td>Bishkek</td>\n",
       "      <td>True</td>\n",
       "      <td>False</td>\n",
       "      <td>False</td>\n",
       "      <td>33000.0</td>\n",
       "      <td>33000.0</td>\n",
       "      <td>2020-10-31 05:17:11</td>\n",
       "      <td>2020-11-08 10:08:51</td>\n",
       "      <td>1</td>\n",
       "      <td>2-bedroom</td>\n",
       "      <td>67-sq-m</td>\n",
       "    </tr>\n",
       "    <tr>\n",
       "      <th>1</th>\n",
       "      <td>Elite flat, 1 bedroom, 42 sq. m, Armored doors...</td>\n",
       "      <td>Стоп! Вам нужна квартира?\\n⠀\\nне упустите шанс...</td>\n",
       "      <td>Bishkek</td>\n",
       "      <td>True</td>\n",
       "      <td>False</td>\n",
       "      <td>False</td>\n",
       "      <td>25000.0</td>\n",
       "      <td>NaN</td>\n",
       "      <td>2021-11-20 10:00:03</td>\n",
       "      <td>2021-12-01 04:44:24</td>\n",
       "      <td>1</td>\n",
       "      <td>1-bedroom</td>\n",
       "      <td>42-sq-m</td>\n",
       "    </tr>\n",
       "    <tr>\n",
       "      <th>2</th>\n",
       "      <td>Elite flat, 1 bedroom, 50 sq. m, Without furni...</td>\n",
       "      <td>Продаю 1к кв, элитка, район Азия мол, 4этаж из...</td>\n",
       "      <td>Bishkek</td>\n",
       "      <td>True</td>\n",
       "      <td>False</td>\n",
       "      <td>True</td>\n",
       "      <td>NaN</td>\n",
       "      <td>NaN</td>\n",
       "      <td>2021-11-20 06:23:03</td>\n",
       "      <td>2021-11-27 05:42:29</td>\n",
       "      <td>1</td>\n",
       "      <td>1-bedroom</td>\n",
       "      <td>50-sq-m</td>\n",
       "    </tr>\n",
       "  </tbody>\n",
       "</table>\n",
       "</div>"
      ],
      "text/plain": [
       "                                               title  \\\n",
       "0                                2 bedroom, 67 sq. m   \n",
       "1  Elite flat, 1 bedroom, 42 sq. m, Armored doors...   \n",
       "2  Elite flat, 1 bedroom, 50 sq. m, Without furni...   \n",
       "\n",
       "                                         description     city  is_vip  \\\n",
       "0  Продаю 2ком. кв. в районе Кожзавода (Дордой). ...  Bishkek    True   \n",
       "1  Стоп! Вам нужна квартира?\\n⠀\\nне упустите шанс...  Bishkek    True   \n",
       "2  Продаю 1к кв, элитка, район Азия мол, 4этаж из...  Bishkek    True   \n",
       "\n",
       "   is_premium  is_negotiable    price  old_price        created_time  \\\n",
       "0       False          False  33000.0    33000.0 2020-10-31 05:17:11   \n",
       "1       False          False  25000.0        NaN 2021-11-20 10:00:03   \n",
       "2       False           True      NaN        NaN 2021-11-20 06:23:03   \n",
       "\n",
       "         updated_time  price_type      rooms  squares  \n",
       "0 2020-11-08 10:08:51           1  2-bedroom  67-sq-m  \n",
       "1 2021-12-01 04:44:24           1  1-bedroom  42-sq-m  \n",
       "2 2021-11-27 05:42:29           1  1-bedroom  50-sq-m  "
      ]
     },
     "execution_count": 20,
     "metadata": {},
     "output_type": "execute_result"
    }
   ],
   "source": [
    "df2 = df1.drop(['id', 'old_id', 'country_id', 'status_id', 'category_id', 'user_id',\n",
    "       'user_ids', 'user', 'origin_user_id',\n",
    "       'hide_phone', 'hide_chat', 'lat', 'lng', 'views', 'impressions',\n",
    "       'favorite_count', 'callers_count', 'writers_count',\n",
    "       'is_select',\n",
    "       'currency', 'symbol', 'background', 'mobile', 'image', 'images',\n",
    "        'city_id', 'city_alias',\n",
    "       'can_free_push', 'paid_features', 'paid_packages', 'score_order',\n",
    "       'last_push_up', 'tracking_info', 'is_freedom', 'response_type','url',\n",
    "       'campaign_show', 'is_ppv', 'ad_label', 'params'],axis = 'columns')\n",
    "df2.head(3)"
   ]
  },
  {
   "cell_type": "code",
   "execution_count": 21,
   "metadata": {},
   "outputs": [
    {
     "data": {
      "text/plain": [
       "array(['Bishkek', 'Karakol', 'Kok-Dzhar', 'Osh', 'Sokuluk'], dtype=object)"
      ]
     },
     "execution_count": 21,
     "metadata": {},
     "output_type": "execute_result"
    }
   ],
   "source": [
    "df2['city'].unique()"
   ]
  },
  {
   "cell_type": "code",
   "execution_count": 22,
   "metadata": {},
   "outputs": [
    {
     "data": {
      "text/plain": [
       "Bishkek      39\n",
       "Osh           2\n",
       "Kok-Dzhar     1\n",
       "Sokuluk       1\n",
       "Karakol       1\n",
       "Name: city, dtype: int64"
      ]
     },
     "execution_count": 22,
     "metadata": {},
     "output_type": "execute_result"
    }
   ],
   "source": [
    "df2['city'].value_counts()"
   ]
  },
  {
   "cell_type": "code",
   "execution_count": 23,
   "metadata": {},
   "outputs": [
    {
     "data": {
      "text/html": [
       "<div>\n",
       "<style scoped>\n",
       "    .dataframe tbody tr th:only-of-type {\n",
       "        vertical-align: middle;\n",
       "    }\n",
       "\n",
       "    .dataframe tbody tr th {\n",
       "        vertical-align: top;\n",
       "    }\n",
       "\n",
       "    .dataframe thead th {\n",
       "        text-align: right;\n",
       "    }\n",
       "</style>\n",
       "<table border=\"1\" class=\"dataframe\">\n",
       "  <thead>\n",
       "    <tr style=\"text-align: right;\">\n",
       "      <th></th>\n",
       "      <th>title</th>\n",
       "      <th>description</th>\n",
       "      <th>city</th>\n",
       "      <th>is_vip</th>\n",
       "      <th>is_premium</th>\n",
       "      <th>is_negotiable</th>\n",
       "      <th>price</th>\n",
       "      <th>old_price</th>\n",
       "      <th>created_time</th>\n",
       "      <th>updated_time</th>\n",
       "      <th>price_type</th>\n",
       "      <th>rooms</th>\n",
       "      <th>squares</th>\n",
       "    </tr>\n",
       "  </thead>\n",
       "  <tbody>\n",
       "    <tr>\n",
       "      <th>0</th>\n",
       "      <td>2 bedroom, 67 sq. m</td>\n",
       "      <td>Продаю 2ком. кв. в районе Кожзавода (Дордой). ...</td>\n",
       "      <td>Bishkek</td>\n",
       "      <td>True</td>\n",
       "      <td>False</td>\n",
       "      <td>False</td>\n",
       "      <td>33000.0</td>\n",
       "      <td>33000.0</td>\n",
       "      <td>2020-10-31 05:17:11</td>\n",
       "      <td>2020-11-08 10:08:51</td>\n",
       "      <td>1</td>\n",
       "      <td>2-bedroom</td>\n",
       "      <td>67-sq-m</td>\n",
       "    </tr>\n",
       "    <tr>\n",
       "      <th>1</th>\n",
       "      <td>Elite flat, 1 bedroom, 42 sq. m, Armored doors...</td>\n",
       "      <td>Стоп! Вам нужна квартира?\\n⠀\\nне упустите шанс...</td>\n",
       "      <td>Bishkek</td>\n",
       "      <td>True</td>\n",
       "      <td>False</td>\n",
       "      <td>False</td>\n",
       "      <td>25000.0</td>\n",
       "      <td>NaN</td>\n",
       "      <td>2021-11-20 10:00:03</td>\n",
       "      <td>2021-12-01 04:44:24</td>\n",
       "      <td>1</td>\n",
       "      <td>1-bedroom</td>\n",
       "      <td>42-sq-m</td>\n",
       "    </tr>\n",
       "    <tr>\n",
       "      <th>2</th>\n",
       "      <td>Elite flat, 1 bedroom, 50 sq. m, Without furni...</td>\n",
       "      <td>Продаю 1к кв, элитка, район Азия мол, 4этаж из...</td>\n",
       "      <td>Bishkek</td>\n",
       "      <td>True</td>\n",
       "      <td>False</td>\n",
       "      <td>True</td>\n",
       "      <td>NaN</td>\n",
       "      <td>NaN</td>\n",
       "      <td>2021-11-20 06:23:03</td>\n",
       "      <td>2021-11-27 05:42:29</td>\n",
       "      <td>1</td>\n",
       "      <td>1-bedroom</td>\n",
       "      <td>50-sq-m</td>\n",
       "    </tr>\n",
       "    <tr>\n",
       "      <th>3</th>\n",
       "      <td>Independent flat, 1 bedroom, 32 sq. m</td>\n",
       "      <td>Продам 1кв.  Р-он аламединского рынка. 3/3 эта...</td>\n",
       "      <td>Bishkek</td>\n",
       "      <td>True</td>\n",
       "      <td>False</td>\n",
       "      <td>False</td>\n",
       "      <td>20500.0</td>\n",
       "      <td>NaN</td>\n",
       "      <td>2021-11-30 05:58:30</td>\n",
       "      <td>2021-11-30 06:01:46</td>\n",
       "      <td>1</td>\n",
       "      <td>1-bedroom</td>\n",
       "      <td>32-sq-m</td>\n",
       "    </tr>\n",
       "    <tr>\n",
       "      <th>4</th>\n",
       "      <td>Elite flat, 3 bedroom, 220 sq. m, Video monito...</td>\n",
       "      <td>Элитная квартира в центре города. Район филарм...</td>\n",
       "      <td>Bishkek</td>\n",
       "      <td>True</td>\n",
       "      <td>False</td>\n",
       "      <td>False</td>\n",
       "      <td>185000.0</td>\n",
       "      <td>180000.0</td>\n",
       "      <td>2021-11-29 05:01:09</td>\n",
       "      <td>2021-11-29 09:23:11</td>\n",
       "      <td>1</td>\n",
       "      <td>3-bedroom</td>\n",
       "      <td>220-sq-m</td>\n",
       "    </tr>\n",
       "  </tbody>\n",
       "</table>\n",
       "</div>"
      ],
      "text/plain": [
       "                                               title  \\\n",
       "0                                2 bedroom, 67 sq. m   \n",
       "1  Elite flat, 1 bedroom, 42 sq. m, Armored doors...   \n",
       "2  Elite flat, 1 bedroom, 50 sq. m, Without furni...   \n",
       "3              Independent flat, 1 bedroom, 32 sq. m   \n",
       "4  Elite flat, 3 bedroom, 220 sq. m, Video monito...   \n",
       "\n",
       "                                         description     city  is_vip  \\\n",
       "0  Продаю 2ком. кв. в районе Кожзавода (Дордой). ...  Bishkek    True   \n",
       "1  Стоп! Вам нужна квартира?\\n⠀\\nне упустите шанс...  Bishkek    True   \n",
       "2  Продаю 1к кв, элитка, район Азия мол, 4этаж из...  Bishkek    True   \n",
       "3  Продам 1кв.  Р-он аламединского рынка. 3/3 эта...  Bishkek    True   \n",
       "4  Элитная квартира в центре города. Район филарм...  Bishkek    True   \n",
       "\n",
       "   is_premium  is_negotiable     price  old_price        created_time  \\\n",
       "0       False          False   33000.0    33000.0 2020-10-31 05:17:11   \n",
       "1       False          False   25000.0        NaN 2021-11-20 10:00:03   \n",
       "2       False           True       NaN        NaN 2021-11-20 06:23:03   \n",
       "3       False          False   20500.0        NaN 2021-11-30 05:58:30   \n",
       "4       False          False  185000.0   180000.0 2021-11-29 05:01:09   \n",
       "\n",
       "         updated_time  price_type      rooms   squares  \n",
       "0 2020-11-08 10:08:51           1  2-bedroom   67-sq-m  \n",
       "1 2021-12-01 04:44:24           1  1-bedroom   42-sq-m  \n",
       "2 2021-11-27 05:42:29           1  1-bedroom   50-sq-m  \n",
       "3 2021-11-30 06:01:46           1  1-bedroom   32-sq-m  \n",
       "4 2021-11-29 09:23:11           1  3-bedroom  220-sq-m  "
      ]
     },
     "execution_count": 23,
     "metadata": {},
     "output_type": "execute_result"
    }
   ],
   "source": [
    "df3 = df2[df2['city'] == 'Bishkek']\n",
    "df3.head()"
   ]
  },
  {
   "cell_type": "code",
   "execution_count": 24,
   "metadata": {},
   "outputs": [
    {
     "data": {
      "text/plain": [
       "array(['Bishkek'], dtype=object)"
      ]
     },
     "execution_count": 24,
     "metadata": {},
     "output_type": "execute_result"
    }
   ],
   "source": [
    "df3['city'].unique()"
   ]
  },
  {
   "cell_type": "code",
   "execution_count": 25,
   "metadata": {},
   "outputs": [
    {
     "data": {
      "text/plain": [
       "title             0\n",
       "description       0\n",
       "city              0\n",
       "is_vip            0\n",
       "is_premium        0\n",
       "is_negotiable     0\n",
       "price             3\n",
       "old_price        28\n",
       "created_time      0\n",
       "updated_time      0\n",
       "price_type        0\n",
       "rooms             0\n",
       "squares           0\n",
       "dtype: int64"
      ]
     },
     "execution_count": 25,
     "metadata": {},
     "output_type": "execute_result"
    }
   ],
   "source": [
    "df3.isnull().sum()"
   ]
  },
  {
   "cell_type": "code",
   "execution_count": 26,
   "metadata": {},
   "outputs": [],
   "source": [
    "df3 = df3.drop(['old_price'],axis = 'columns')"
   ]
  },
  {
   "cell_type": "code",
   "execution_count": 27,
   "metadata": {},
   "outputs": [
    {
     "data": {
      "text/plain": [
       "title            0\n",
       "description      0\n",
       "city             0\n",
       "is_vip           0\n",
       "is_premium       0\n",
       "is_negotiable    0\n",
       "price            0\n",
       "created_time     0\n",
       "updated_time     0\n",
       "price_type       0\n",
       "rooms            0\n",
       "squares          0\n",
       "dtype: int64"
      ]
     },
     "execution_count": 27,
     "metadata": {},
     "output_type": "execute_result"
    }
   ],
   "source": [
    "df3 = df3.dropna()\n",
    "df3.isnull().sum()"
   ]
  },
  {
   "cell_type": "code",
   "execution_count": 28,
   "metadata": {},
   "outputs": [
    {
     "data": {
      "text/plain": [
       "Index(['title', 'description', 'city', 'is_vip', 'is_premium', 'is_negotiable',\n",
       "       'price', 'created_time', 'updated_time', 'price_type', 'rooms',\n",
       "       'squares'],\n",
       "      dtype='object')"
      ]
     },
     "execution_count": 28,
     "metadata": {},
     "output_type": "execute_result"
    }
   ],
   "source": [
    "df3.columns"
   ]
  },
  {
   "cell_type": "code",
   "execution_count": 29,
   "metadata": {},
   "outputs": [
    {
     "data": {
      "text/html": [
       "<div>\n",
       "<style scoped>\n",
       "    .dataframe tbody tr th:only-of-type {\n",
       "        vertical-align: middle;\n",
       "    }\n",
       "\n",
       "    .dataframe tbody tr th {\n",
       "        vertical-align: top;\n",
       "    }\n",
       "\n",
       "    .dataframe thead th {\n",
       "        text-align: right;\n",
       "    }\n",
       "</style>\n",
       "<table border=\"1\" class=\"dataframe\">\n",
       "  <thead>\n",
       "    <tr style=\"text-align: right;\">\n",
       "      <th></th>\n",
       "      <th>price</th>\n",
       "      <th>rooms</th>\n",
       "      <th>squares</th>\n",
       "    </tr>\n",
       "  </thead>\n",
       "  <tbody>\n",
       "    <tr>\n",
       "      <th>0</th>\n",
       "      <td>33000.0</td>\n",
       "      <td>2-bedroom</td>\n",
       "      <td>67-sq-m</td>\n",
       "    </tr>\n",
       "    <tr>\n",
       "      <th>1</th>\n",
       "      <td>25000.0</td>\n",
       "      <td>1-bedroom</td>\n",
       "      <td>42-sq-m</td>\n",
       "    </tr>\n",
       "    <tr>\n",
       "      <th>3</th>\n",
       "      <td>20500.0</td>\n",
       "      <td>1-bedroom</td>\n",
       "      <td>32-sq-m</td>\n",
       "    </tr>\n",
       "  </tbody>\n",
       "</table>\n",
       "</div>"
      ],
      "text/plain": [
       "     price      rooms  squares\n",
       "0  33000.0  2-bedroom  67-sq-m\n",
       "1  25000.0  1-bedroom  42-sq-m\n",
       "3  20500.0  1-bedroom  32-sq-m"
      ]
     },
     "execution_count": 29,
     "metadata": {},
     "output_type": "execute_result"
    }
   ],
   "source": [
    "df4 = df3.drop(['title', 'description', 'city', 'is_vip', 'is_premium', 'is_negotiable', 'created_time', 'updated_time', 'price_type' \n",
    "       ],axis = 'columns')\n",
    "df4.head(3)"
   ]
  },
  {
   "cell_type": "code",
   "execution_count": 30,
   "metadata": {},
   "outputs": [
    {
     "name": "stdout",
     "output_type": "stream",
     "text": [
      "<class 'pandas.core.frame.DataFrame'>\n",
      "Int64Index: 36 entries, 0 to 43\n",
      "Data columns (total 3 columns):\n",
      " #   Column   Non-Null Count  Dtype  \n",
      "---  ------   --------------  -----  \n",
      " 0   price    36 non-null     float64\n",
      " 1   rooms    36 non-null     object \n",
      " 2   squares  36 non-null     object \n",
      "dtypes: float64(1), object(2)\n",
      "memory usage: 1.1+ KB\n"
     ]
    }
   ],
   "source": [
    "df4.info()"
   ]
  },
  {
   "cell_type": "code",
   "execution_count": 31,
   "metadata": {},
   "outputs": [],
   "source": [
    "df4['rooms'] = df3['rooms'].apply(lambda x: int(x.split('-')[0]))"
   ]
  },
  {
   "cell_type": "code",
   "execution_count": 32,
   "metadata": {},
   "outputs": [
    {
     "data": {
      "text/html": [
       "<div>\n",
       "<style scoped>\n",
       "    .dataframe tbody tr th:only-of-type {\n",
       "        vertical-align: middle;\n",
       "    }\n",
       "\n",
       "    .dataframe tbody tr th {\n",
       "        vertical-align: top;\n",
       "    }\n",
       "\n",
       "    .dataframe thead th {\n",
       "        text-align: right;\n",
       "    }\n",
       "</style>\n",
       "<table border=\"1\" class=\"dataframe\">\n",
       "  <thead>\n",
       "    <tr style=\"text-align: right;\">\n",
       "      <th></th>\n",
       "      <th>price</th>\n",
       "      <th>rooms</th>\n",
       "      <th>squares</th>\n",
       "    </tr>\n",
       "  </thead>\n",
       "  <tbody>\n",
       "    <tr>\n",
       "      <th>0</th>\n",
       "      <td>33000.0</td>\n",
       "      <td>2</td>\n",
       "      <td>67-sq-m</td>\n",
       "    </tr>\n",
       "    <tr>\n",
       "      <th>1</th>\n",
       "      <td>25000.0</td>\n",
       "      <td>1</td>\n",
       "      <td>42-sq-m</td>\n",
       "    </tr>\n",
       "    <tr>\n",
       "      <th>3</th>\n",
       "      <td>20500.0</td>\n",
       "      <td>1</td>\n",
       "      <td>32-sq-m</td>\n",
       "    </tr>\n",
       "    <tr>\n",
       "      <th>4</th>\n",
       "      <td>185000.0</td>\n",
       "      <td>3</td>\n",
       "      <td>220-sq-m</td>\n",
       "    </tr>\n",
       "    <tr>\n",
       "      <th>5</th>\n",
       "      <td>32000.0</td>\n",
       "      <td>1</td>\n",
       "      <td>35-sq-m</td>\n",
       "    </tr>\n",
       "  </tbody>\n",
       "</table>\n",
       "</div>"
      ],
      "text/plain": [
       "      price  rooms   squares\n",
       "0   33000.0      2   67-sq-m\n",
       "1   25000.0      1   42-sq-m\n",
       "3   20500.0      1   32-sq-m\n",
       "4  185000.0      3  220-sq-m\n",
       "5   32000.0      1   35-sq-m"
      ]
     },
     "execution_count": 32,
     "metadata": {},
     "output_type": "execute_result"
    }
   ],
   "source": [
    "df4.head()"
   ]
  },
  {
   "cell_type": "code",
   "execution_count": 33,
   "metadata": {},
   "outputs": [],
   "source": [
    "df4['total_sqft'] = df3['squares'].apply(lambda x: int(x.split('-')[0]))"
   ]
  },
  {
   "cell_type": "code",
   "execution_count": 34,
   "metadata": {},
   "outputs": [
    {
     "data": {
      "text/html": [
       "<div>\n",
       "<style scoped>\n",
       "    .dataframe tbody tr th:only-of-type {\n",
       "        vertical-align: middle;\n",
       "    }\n",
       "\n",
       "    .dataframe tbody tr th {\n",
       "        vertical-align: top;\n",
       "    }\n",
       "\n",
       "    .dataframe thead th {\n",
       "        text-align: right;\n",
       "    }\n",
       "</style>\n",
       "<table border=\"1\" class=\"dataframe\">\n",
       "  <thead>\n",
       "    <tr style=\"text-align: right;\">\n",
       "      <th></th>\n",
       "      <th>price</th>\n",
       "      <th>rooms</th>\n",
       "      <th>squares</th>\n",
       "      <th>total_sqft</th>\n",
       "    </tr>\n",
       "  </thead>\n",
       "  <tbody>\n",
       "    <tr>\n",
       "      <th>0</th>\n",
       "      <td>33000.0</td>\n",
       "      <td>2</td>\n",
       "      <td>67-sq-m</td>\n",
       "      <td>67</td>\n",
       "    </tr>\n",
       "    <tr>\n",
       "      <th>1</th>\n",
       "      <td>25000.0</td>\n",
       "      <td>1</td>\n",
       "      <td>42-sq-m</td>\n",
       "      <td>42</td>\n",
       "    </tr>\n",
       "    <tr>\n",
       "      <th>3</th>\n",
       "      <td>20500.0</td>\n",
       "      <td>1</td>\n",
       "      <td>32-sq-m</td>\n",
       "      <td>32</td>\n",
       "    </tr>\n",
       "    <tr>\n",
       "      <th>4</th>\n",
       "      <td>185000.0</td>\n",
       "      <td>3</td>\n",
       "      <td>220-sq-m</td>\n",
       "      <td>220</td>\n",
       "    </tr>\n",
       "    <tr>\n",
       "      <th>5</th>\n",
       "      <td>32000.0</td>\n",
       "      <td>1</td>\n",
       "      <td>35-sq-m</td>\n",
       "      <td>35</td>\n",
       "    </tr>\n",
       "  </tbody>\n",
       "</table>\n",
       "</div>"
      ],
      "text/plain": [
       "      price  rooms   squares  total_sqft\n",
       "0   33000.0      2   67-sq-m          67\n",
       "1   25000.0      1   42-sq-m          42\n",
       "3   20500.0      1   32-sq-m          32\n",
       "4  185000.0      3  220-sq-m         220\n",
       "5   32000.0      1   35-sq-m          35"
      ]
     },
     "execution_count": 34,
     "metadata": {},
     "output_type": "execute_result"
    }
   ],
   "source": [
    "df4.head()"
   ]
  },
  {
   "cell_type": "code",
   "execution_count": 35,
   "metadata": {},
   "outputs": [
    {
     "data": {
      "text/html": [
       "<div>\n",
       "<style scoped>\n",
       "    .dataframe tbody tr th:only-of-type {\n",
       "        vertical-align: middle;\n",
       "    }\n",
       "\n",
       "    .dataframe tbody tr th {\n",
       "        vertical-align: top;\n",
       "    }\n",
       "\n",
       "    .dataframe thead th {\n",
       "        text-align: right;\n",
       "    }\n",
       "</style>\n",
       "<table border=\"1\" class=\"dataframe\">\n",
       "  <thead>\n",
       "    <tr style=\"text-align: right;\">\n",
       "      <th></th>\n",
       "      <th>price</th>\n",
       "      <th>rooms</th>\n",
       "      <th>total_sqft</th>\n",
       "    </tr>\n",
       "  </thead>\n",
       "  <tbody>\n",
       "    <tr>\n",
       "      <th>0</th>\n",
       "      <td>33000.0</td>\n",
       "      <td>2</td>\n",
       "      <td>67</td>\n",
       "    </tr>\n",
       "    <tr>\n",
       "      <th>1</th>\n",
       "      <td>25000.0</td>\n",
       "      <td>1</td>\n",
       "      <td>42</td>\n",
       "    </tr>\n",
       "    <tr>\n",
       "      <th>3</th>\n",
       "      <td>20500.0</td>\n",
       "      <td>1</td>\n",
       "      <td>32</td>\n",
       "    </tr>\n",
       "    <tr>\n",
       "      <th>4</th>\n",
       "      <td>185000.0</td>\n",
       "      <td>3</td>\n",
       "      <td>220</td>\n",
       "    </tr>\n",
       "    <tr>\n",
       "      <th>5</th>\n",
       "      <td>32000.0</td>\n",
       "      <td>1</td>\n",
       "      <td>35</td>\n",
       "    </tr>\n",
       "  </tbody>\n",
       "</table>\n",
       "</div>"
      ],
      "text/plain": [
       "      price  rooms  total_sqft\n",
       "0   33000.0      2          67\n",
       "1   25000.0      1          42\n",
       "3   20500.0      1          32\n",
       "4  185000.0      3         220\n",
       "5   32000.0      1          35"
      ]
     },
     "execution_count": 35,
     "metadata": {},
     "output_type": "execute_result"
    }
   ],
   "source": [
    "df4 = df4.drop(['squares'], axis = 'columns')\n",
    "df4.head()"
   ]
  },
  {
   "cell_type": "code",
   "execution_count": 36,
   "metadata": {},
   "outputs": [
    {
     "data": {
      "text/plain": [
       "array([2, 1, 3, 5, 4], dtype=int64)"
      ]
     },
     "execution_count": 36,
     "metadata": {},
     "output_type": "execute_result"
    }
   ],
   "source": [
    "df4.rooms.unique()"
   ]
  },
  {
   "cell_type": "code",
   "execution_count": 37,
   "metadata": {},
   "outputs": [
    {
     "data": {
      "text/plain": [
       "array([ 67,  42,  32, 220,  35,  30,  48,  51,  68,  61,  97,  77, 154,\n",
       "        71,  58,  90,  44,  47,  12, 108,  83, 107,  20,  54,  45,  18,\n",
       "        50,  88,  66], dtype=int64)"
      ]
     },
     "execution_count": 37,
     "metadata": {},
     "output_type": "execute_result"
    }
   ],
   "source": [
    "df4.total_sqft.unique()"
   ]
  },
  {
   "cell_type": "code",
   "execution_count": 38,
   "metadata": {},
   "outputs": [
    {
     "data": {
      "text/plain": [
       "(36, 3)"
      ]
     },
     "execution_count": 38,
     "metadata": {},
     "output_type": "execute_result"
    }
   ],
   "source": [
    "df4.shape"
   ]
  },
  {
   "cell_type": "code",
   "execution_count": 39,
   "metadata": {},
   "outputs": [
    {
     "data": {
      "text/plain": [
       "count        36.000000\n",
       "mean      44313.888889\n",
       "std       35098.747660\n",
       "min         350.000000\n",
       "25%       30625.000000\n",
       "50%       35250.000000\n",
       "75%       50625.000000\n",
       "max      185000.000000\n",
       "Name: price, dtype: float64"
      ]
     },
     "execution_count": 39,
     "metadata": {},
     "output_type": "execute_result"
    }
   ],
   "source": [
    "df4.price.describe()"
   ]
  },
  {
   "cell_type": "code",
   "execution_count": 40,
   "metadata": {},
   "outputs": [
    {
     "name": "stdout",
     "output_type": "stream",
     "text": [
      "<class 'pandas.core.frame.DataFrame'>\n",
      "Int64Index: 36 entries, 0 to 43\n",
      "Data columns (total 3 columns):\n",
      " #   Column      Non-Null Count  Dtype  \n",
      "---  ------      --------------  -----  \n",
      " 0   price       36 non-null     float64\n",
      " 1   rooms       36 non-null     int64  \n",
      " 2   total_sqft  36 non-null     int64  \n",
      "dtypes: float64(1), int64(2)\n",
      "memory usage: 1.1 KB\n"
     ]
    }
   ],
   "source": [
    "df4.info()"
   ]
  },
  {
   "cell_type": "code",
   "execution_count": 41,
   "metadata": {},
   "outputs": [
    {
     "data": {
      "image/png": "[encoded data removed]",
      "text/plain": [
       "<Figure size 1440x720 with 1 Axes>"
      ]
     },
     "metadata": {
      "needs_background": "light"
     },
     "output_type": "display_data"
    }
   ],
   "source": [
    "df5 = df4\n",
    "\n",
    "ax1 = df5.plot.scatter(x='total_sqft',y='price', marker = '+', c='DarkBlue',s = 120)"
   ]
  },
  {
   "cell_type": "code",
   "execution_count": 42,
   "metadata": {},
   "outputs": [
    {
     "data": {
      "text/html": [
       "<div>\n",
       "<style scoped>\n",
       "    .dataframe tbody tr th:only-of-type {\n",
       "        vertical-align: middle;\n",
       "    }\n",
       "\n",
       "    .dataframe tbody tr th {\n",
       "        vertical-align: top;\n",
       "    }\n",
       "\n",
       "    .dataframe thead th {\n",
       "        text-align: right;\n",
       "    }\n",
       "</style>\n",
       "<table border=\"1\" class=\"dataframe\">\n",
       "  <thead>\n",
       "    <tr style=\"text-align: right;\">\n",
       "      <th></th>\n",
       "      <th>price</th>\n",
       "      <th>rooms</th>\n",
       "      <th>total_sqft</th>\n",
       "    </tr>\n",
       "  </thead>\n",
       "  <tbody>\n",
       "    <tr>\n",
       "      <th>0</th>\n",
       "      <td>33000.0</td>\n",
       "      <td>2</td>\n",
       "      <td>67</td>\n",
       "    </tr>\n",
       "    <tr>\n",
       "      <th>1</th>\n",
       "      <td>25000.0</td>\n",
       "      <td>1</td>\n",
       "      <td>42</td>\n",
       "    </tr>\n",
       "    <tr>\n",
       "      <th>3</th>\n",
       "      <td>20500.0</td>\n",
       "      <td>1</td>\n",
       "      <td>32</td>\n",
       "    </tr>\n",
       "  </tbody>\n",
       "</table>\n",
       "</div>"
      ],
      "text/plain": [
       "     price  rooms  total_sqft\n",
       "0  33000.0      2          67\n",
       "1  25000.0      1          42\n",
       "3  20500.0      1          32"
      ]
     },
     "execution_count": 42,
     "metadata": {},
     "output_type": "execute_result"
    }
   ],
   "source": [
    "df5.head(3)"
   ]
  },
  {
   "cell_type": "code",
   "execution_count": 43,
   "metadata": {},
   "outputs": [
    {
     "data": {
      "text/html": [
       "<div>\n",
       "<style scoped>\n",
       "    .dataframe tbody tr th:only-of-type {\n",
       "        vertical-align: middle;\n",
       "    }\n",
       "\n",
       "    .dataframe tbody tr th {\n",
       "        vertical-align: top;\n",
       "    }\n",
       "\n",
       "    .dataframe thead th {\n",
       "        text-align: right;\n",
       "    }\n",
       "</style>\n",
       "<table border=\"1\" class=\"dataframe\">\n",
       "  <thead>\n",
       "    <tr style=\"text-align: right;\">\n",
       "      <th></th>\n",
       "      <th>price</th>\n",
       "      <th>rooms</th>\n",
       "      <th>total_sqft</th>\n",
       "    </tr>\n",
       "  </thead>\n",
       "  <tbody>\n",
       "    <tr>\n",
       "      <th>14</th>\n",
       "      <td>350.0</td>\n",
       "      <td>2</td>\n",
       "      <td>97</td>\n",
       "    </tr>\n",
       "    <tr>\n",
       "      <th>28</th>\n",
       "      <td>650.0</td>\n",
       "      <td>2</td>\n",
       "      <td>83</td>\n",
       "    </tr>\n",
       "    <tr>\n",
       "      <th>43</th>\n",
       "      <td>650.0</td>\n",
       "      <td>2</td>\n",
       "      <td>66</td>\n",
       "    </tr>\n",
       "  </tbody>\n",
       "</table>\n",
       "</div>"
      ],
      "text/plain": [
       "    price  rooms  total_sqft\n",
       "14  350.0      2          97\n",
       "28  650.0      2          83\n",
       "43  650.0      2          66"
      ]
     },
     "execution_count": 43,
     "metadata": {},
     "output_type": "execute_result"
    }
   ],
   "source": [
    "m = df5[(df5['total_sqft']>50) & (df5['price']<30000)]\n",
    "m"
   ]
  },
  {
   "cell_type": "code",
   "execution_count": 44,
   "metadata": {},
   "outputs": [],
   "source": [
    "df5 = df5.drop(df5[(df5['total_sqft']>50) & (df5['price']<30000)].index)"
   ]
  },
  {
   "cell_type": "code",
   "execution_count": 45,
   "metadata": {},
   "outputs": [
    {
     "data": {
      "text/plain": [
       "(33, 3)"
      ]
     },
     "execution_count": 45,
     "metadata": {},
     "output_type": "execute_result"
    }
   ],
   "source": [
    "df5.shape"
   ]
  },
  {
   "cell_type": "code",
   "execution_count": 46,
   "metadata": {},
   "outputs": [
    {
     "data": {
      "image/png": "[encoded data removed]",
      "text/plain": [
       "<Figure size 1440x720 with 1 Axes>"
      ]
     },
     "metadata": {
      "needs_background": "light"
     },
     "output_type": "display_data"
    }
   ],
   "source": [
    "fig = df5\n",
    "\n",
    "ax2 = fig.plot.scatter(x='total_sqft',y='price', marker = '+', c='Green',s = 120)"
   ]
  },
  {
   "cell_type": "code",
   "execution_count": 47,
   "metadata": {},
   "outputs": [
    {
     "data": {
      "text/plain": [
       "count        33.000000\n",
       "mean      48292.424242\n",
       "std       33934.233547\n",
       "min       13000.000000\n",
       "25%       32000.000000\n",
       "50%       38500.000000\n",
       "75%       52500.000000\n",
       "max      185000.000000\n",
       "Name: price, dtype: float64"
      ]
     },
     "execution_count": 47,
     "metadata": {},
     "output_type": "execute_result"
    }
   ],
   "source": [
    "df5.price.describe()"
   ]
  },
  {
   "cell_type": "code",
   "execution_count": 48,
   "metadata": {},
   "outputs": [
    {
     "data": {
      "text/html": [
       "<div>\n",
       "<style scoped>\n",
       "    .dataframe tbody tr th:only-of-type {\n",
       "        vertical-align: middle;\n",
       "    }\n",
       "\n",
       "    .dataframe tbody tr th {\n",
       "        vertical-align: top;\n",
       "    }\n",
       "\n",
       "    .dataframe thead th {\n",
       "        text-align: right;\n",
       "    }\n",
       "</style>\n",
       "<table border=\"1\" class=\"dataframe\">\n",
       "  <thead>\n",
       "    <tr style=\"text-align: right;\">\n",
       "      <th></th>\n",
       "      <th>rooms</th>\n",
       "      <th>total_sqft</th>\n",
       "    </tr>\n",
       "  </thead>\n",
       "  <tbody>\n",
       "    <tr>\n",
       "      <th>0</th>\n",
       "      <td>2</td>\n",
       "      <td>67</td>\n",
       "    </tr>\n",
       "    <tr>\n",
       "      <th>1</th>\n",
       "      <td>1</td>\n",
       "      <td>42</td>\n",
       "    </tr>\n",
       "    <tr>\n",
       "      <th>3</th>\n",
       "      <td>1</td>\n",
       "      <td>32</td>\n",
       "    </tr>\n",
       "    <tr>\n",
       "      <th>4</th>\n",
       "      <td>3</td>\n",
       "      <td>220</td>\n",
       "    </tr>\n",
       "    <tr>\n",
       "      <th>5</th>\n",
       "      <td>1</td>\n",
       "      <td>35</td>\n",
       "    </tr>\n",
       "  </tbody>\n",
       "</table>\n",
       "</div>"
      ],
      "text/plain": [
       "   rooms  total_sqft\n",
       "0      2          67\n",
       "1      1          42\n",
       "3      1          32\n",
       "4      3         220\n",
       "5      1          35"
      ]
     },
     "execution_count": 48,
     "metadata": {},
     "output_type": "execute_result"
    }
   ],
   "source": [
    "X = df5.drop('price',axis = 'columns')\n",
    "X.head()"
   ]
  },
  {
   "cell_type": "code",
   "execution_count": 49,
   "metadata": {},
   "outputs": [
    {
     "data": {
      "text/plain": [
       "0     33000.0\n",
       "1     25000.0\n",
       "3     20500.0\n",
       "4    185000.0\n",
       "5     32000.0\n",
       "Name: price, dtype: float64"
      ]
     },
     "execution_count": 49,
     "metadata": {},
     "output_type": "execute_result"
    }
   ],
   "source": [
    "y = df5.price\n",
    "y.head()"
   ]
  },
  {
   "cell_type": "code",
   "execution_count": 50,
   "metadata": {},
   "outputs": [],
   "source": [
    "from sklearn.model_selection import train_test_split\n",
    "X_train,X_test,y_train,y_test = train_test_split(X,y,test_size = 0.2,random_state = 10)"
   ]
  },
  {
   "cell_type": "code",
   "execution_count": 51,
   "metadata": {},
   "outputs": [
    {
     "data": {
      "text/plain": [
       "0.8944689128208891"
      ]
     },
     "execution_count": 51,
     "metadata": {},
     "output_type": "execute_result"
    }
   ],
   "source": [
    "from sklearn.linear_model import LinearRegression\n",
    "lr = LinearRegression()\n",
    "lr.fit(X_train,y_train)\n",
    "lr.score(X_test,y_test)"
   ]
  },
  {
   "cell_type": "code",
   "execution_count": 52,
   "metadata": {},
   "outputs": [
    {
     "data": {
      "text/plain": [
       "array([0.89446891, 0.92744098, 0.89894485, 0.92117172, 0.80126473])"
      ]
     },
     "execution_count": 52,
     "metadata": {},
     "output_type": "execute_result"
    }
   ],
   "source": [
    "from sklearn.model_selection import ShuffleSplit\n",
    "from sklearn.model_selection import cross_val_score\n",
    "cv = ShuffleSplit(n_splits = 5, test_size = 0.2, random_state = 10)\n",
    "cross_val_score(LinearRegression(),X,y,cv=cv)"
   ]
  },
  {
   "cell_type": "code",
   "execution_count": 53,
   "metadata": {},
   "outputs": [],
   "source": [
    "def predict_price(rooms,sqft):\n",
    "    \n",
    "    x = np.zeros(len(X.columns))\n",
    "    x[0] = rooms\n",
    "    x[1] = sqft\n",
    "        \n",
    "    return lr.predict([x])[0]"
   ]
  },
  {
   "cell_type": "code",
   "execution_count": 54,
   "metadata": {},
   "outputs": [
    {
     "data": {
      "text/plain": [
       "62881.36064877029"
      ]
     },
     "execution_count": 54,
     "metadata": {},
     "output_type": "execute_result"
    }
   ],
   "source": [
    "predict_price(3,78)"
   ]
  },
  {
   "cell_type": "code",
   "execution_count": null,
   "metadata": {},
   "outputs": [],
   "source": []
  }
 ],
 "metadata": {
  "kernelspec": {
   "display_name": "Python 3",
   "language": "python",
   "name": "python3"
  },
  "language_info": {
   "codemirror_mode": {
    "name": "ipython",
    "version": 3
   },
   "file_extension": ".py",
   "mimetype": "text/x-python",
   "name": "python",
   "nbconvert_exporter": "python",
   "pygments_lexer": "ipython3",
   "version": "3.8.5"
  }
 },
 "nbformat": 4,
 "nbformat_minor": 4
}
